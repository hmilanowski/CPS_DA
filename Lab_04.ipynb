{
 "cells": [
  {
   "cell_type": "markdown",
   "metadata": {},
   "source": [
    "# Creating a simple Bayesian model\n",
    "##  Using the data from following table create a model predicting number of passenger deaths.\n",
    "Use poisson distribution in two variants \n",
    "1. The rate is constant for all years and not depending on anything.\n",
    "2. The intensity is constant, but rate is a product of intensity and miles flown.\n",
    "\n",
    "Select appropriate priors, perform prior predictive checks, fit the model and using posterior predictive distribution predict the death rates from the model."
   ]
  },
  {
   "cell_type": "code",
   "execution_count": 1,
   "metadata": {},
   "outputs": [],
   "source": [
    "import pystan\n",
    "import stan_utility\n",
    "\n",
    "import arviz as az\n",
    "import numpy as np\n",
    "import scipy.stats as stats\n",
    "import pandas as pd\n",
    "import matplotlib.pyplot as plt\n",
    "import matplotlib as mpl\n",
    "\n",
    "st=plt.style.context('seaborn-white')\n",
    "mpl.rcParams['figure.dpi']= 200"
   ]
  },
  {
   "cell_type": "code",
   "execution_count": 2,
   "metadata": {},
   "outputs": [],
   "source": [
    "light=\"#FFFCDC\"\n",
    "light_highlight=\"#FEF590\"\n",
    "mid=\"#FDED2A\"\n",
    "mid_highlight=\"#f0dc05\"\n",
    "dark=\"#EECA02\"\n",
    "dark_highlight=\"#BB9700\"\n",
    "green=\"#00FF00\"\n",
    "light_grey=\"#DDDDDD\"\n",
    "\n",
    "plt.style.context('seaborn-white')\n",
    "mpl.rcParams['figure.dpi']= 200"
   ]
  },
  {
   "cell_type": "code",
   "execution_count": 3,
   "metadata": {},
   "outputs": [
    {
     "data": {
      "text/html": [
       "<div>\n",
       "<style scoped>\n",
       "    .dataframe tbody tr th:only-of-type {\n",
       "        vertical-align: middle;\n",
       "    }\n",
       "\n",
       "    .dataframe tbody tr th {\n",
       "        vertical-align: top;\n",
       "    }\n",
       "\n",
       "    .dataframe thead th {\n",
       "        text-align: right;\n",
       "    }\n",
       "</style>\n",
       "<table border=\"1\" class=\"dataframe\">\n",
       "  <thead>\n",
       "    <tr style=\"text-align: right;\">\n",
       "      <th></th>\n",
       "      <th>Fatal accidents</th>\n",
       "      <th>Passenger deaths</th>\n",
       "      <th>Death rate</th>\n",
       "      <th>Miles flown [100 mln miles]</th>\n",
       "    </tr>\n",
       "    <tr>\n",
       "      <th>Year</th>\n",
       "      <th></th>\n",
       "      <th></th>\n",
       "      <th></th>\n",
       "      <th></th>\n",
       "    </tr>\n",
       "  </thead>\n",
       "  <tbody>\n",
       "    <tr>\n",
       "      <th>1976</th>\n",
       "      <td>24</td>\n",
       "      <td>734</td>\n",
       "      <td>0.19</td>\n",
       "      <td>3863.0</td>\n",
       "    </tr>\n",
       "    <tr>\n",
       "      <th>1977</th>\n",
       "      <td>25</td>\n",
       "      <td>516</td>\n",
       "      <td>0.12</td>\n",
       "      <td>4300.0</td>\n",
       "    </tr>\n",
       "    <tr>\n",
       "      <th>1978</th>\n",
       "      <td>31</td>\n",
       "      <td>754</td>\n",
       "      <td>0.15</td>\n",
       "      <td>5027.0</td>\n",
       "    </tr>\n",
       "    <tr>\n",
       "      <th>1979</th>\n",
       "      <td>31</td>\n",
       "      <td>877</td>\n",
       "      <td>0.16</td>\n",
       "      <td>5481.0</td>\n",
       "    </tr>\n",
       "    <tr>\n",
       "      <th>1980</th>\n",
       "      <td>22</td>\n",
       "      <td>814</td>\n",
       "      <td>0.14</td>\n",
       "      <td>5814.0</td>\n",
       "    </tr>\n",
       "    <tr>\n",
       "      <th>1981</th>\n",
       "      <td>21</td>\n",
       "      <td>362</td>\n",
       "      <td>0.06</td>\n",
       "      <td>6033.0</td>\n",
       "    </tr>\n",
       "    <tr>\n",
       "      <th>1982</th>\n",
       "      <td>26</td>\n",
       "      <td>764</td>\n",
       "      <td>0.13</td>\n",
       "      <td>5877.0</td>\n",
       "    </tr>\n",
       "    <tr>\n",
       "      <th>1983</th>\n",
       "      <td>20</td>\n",
       "      <td>809</td>\n",
       "      <td>0.13</td>\n",
       "      <td>6223.0</td>\n",
       "    </tr>\n",
       "    <tr>\n",
       "      <th>1984</th>\n",
       "      <td>16</td>\n",
       "      <td>223</td>\n",
       "      <td>0.03</td>\n",
       "      <td>7433.0</td>\n",
       "    </tr>\n",
       "    <tr>\n",
       "      <th>1985</th>\n",
       "      <td>22</td>\n",
       "      <td>1066</td>\n",
       "      <td>0.15</td>\n",
       "      <td>7107.0</td>\n",
       "    </tr>\n",
       "  </tbody>\n",
       "</table>\n",
       "</div>"
      ],
      "text/plain": [
       "      Fatal accidents  Passenger deaths  Death rate  \\\n",
       "Year                                                  \n",
       "1976               24               734        0.19   \n",
       "1977               25               516        0.12   \n",
       "1978               31               754        0.15   \n",
       "1979               31               877        0.16   \n",
       "1980               22               814        0.14   \n",
       "1981               21               362        0.06   \n",
       "1982               26               764        0.13   \n",
       "1983               20               809        0.13   \n",
       "1984               16               223        0.03   \n",
       "1985               22              1066        0.15   \n",
       "\n",
       "      Miles flown [100 mln miles]  \n",
       "Year                               \n",
       "1976                       3863.0  \n",
       "1977                       4300.0  \n",
       "1978                       5027.0  \n",
       "1979                       5481.0  \n",
       "1980                       5814.0  \n",
       "1981                       6033.0  \n",
       "1982                       5877.0  \n",
       "1983                       6223.0  \n",
       "1984                       7433.0  \n",
       "1985                       7107.0  "
      ]
     },
     "execution_count": 3,
     "metadata": {},
     "output_type": "execute_result"
    }
   ],
   "source": [
    "dts=[24,734,25,516,31,754,31,877,22,814,21,362,26,764,20,809,16,223,22,1066]\n",
    "c1=dts[::2]\n",
    "c2=dts[1::2]\n",
    "\n",
    "airline_data=pd.DataFrame({'Year':[1976,1977,1978,1979,1980,1981,1982,1983,1984,1985],\n",
    "                           'Fatal accidents':c1,  \n",
    "                           'Passenger deaths':c2,\n",
    "                           'Death rate':[0.19,0.12,0.15,0.16,0.14,0.06,0.13,0.13,0.03,0.15]}).set_index('Year')\n",
    "\n",
    "airline_data['Miles flown [100 mln miles]']=np.round(airline_data['Passenger deaths']/airline_data['Death rate'])\n",
    "\n",
    "## generation of vector for plotting samples under histograms\n",
    "death=[]\n",
    "dta_cnt=[]\n",
    "for k in airline_data['Passenger deaths']:  \n",
    "    dta_cnt.append(-(1.+death.count(k)))\n",
    "    death.append(k)\n",
    "dta_cnt=np.array(dta_cnt)\n",
    "\n",
    "airline_data"
   ]
  },
  {
   "cell_type": "code",
   "execution_count": 4,
   "metadata": {},
   "outputs": [
    {
     "name": "stdout",
     "output_type": "stream",
     "text": [
      "Year\n",
      "1976     734\n",
      "1977     516\n",
      "1978     754\n",
      "1979     877\n",
      "1980     814\n",
      "1981     362\n",
      "1982     764\n",
      "1983     809\n",
      "1984     223\n",
      "1985    1066\n",
      "Name: Passenger deaths, dtype: int64\n",
      "691.9\n"
     ]
    }
   ],
   "source": [
    "print(airline_data['Passenger deaths'])\n",
    "print(airline_data['Passenger deaths'].mean())"
   ]
  },
  {
   "cell_type": "markdown",
   "metadata": {},
   "source": [
    "## Part 1 - The rate is constant for all years and not depending on anything\n",
    "Let's assume that plane accident occure every 2 months. Knowing that Boeing 737 is the most common used plane by airlines and it carries 150 passengers on average, it is assumed, that every year 900 deaths are caused by plane crashes.\n",
    "\n",
    "For poisson distribution we have mean of $\\lambda$ and standard deviation of $\\sqrt{\\lambda}$. Approximately in order to have no more than 1% probability $\\lambda$ should fulfill\n",
    "$$\\lambda+3\\sqrt{\\lambda}\\approx900$$"
   ]
  },
  {
   "cell_type": "code",
   "execution_count": 5,
   "metadata": {},
   "outputs": [
    {
     "name": "stdout",
     "output_type": "stream",
     "text": [
      "[814.]\n"
     ]
    }
   ],
   "source": [
    "root_of_lam=np.polynomial.polynomial.polyroots([-900.,3.,1.])\n",
    "lam_ub=np.round(root_of_lam[root_of_lam>0]**2)\n",
    "print(lam_ub)"
   ]
  },
  {
   "cell_type": "markdown",
   "metadata": {},
   "source": [
    "Prior prediction is based on consideration presentes above, moreover wide sigma is selected to assure higher rate"
   ]
  },
  {
   "cell_type": "code",
   "execution_count": 6,
   "metadata": {},
   "outputs": [
    {
     "name": "stdout",
     "output_type": "stream",
     "text": [
      "Using cached StanModel\n"
     ]
    }
   ],
   "source": [
    "model_ppc=stan_utility.compile_model('stan_model/passenger_ppc.stan')"
   ]
  },
  {
   "cell_type": "code",
   "execution_count": 7,
   "metadata": {},
   "outputs": [],
   "source": [
    "R =1000\n",
    "sim_model_ppc=model_ppc.sampling(data=dict(),\n",
    "                                   iter=R,\n",
    "                                   warmup=0,\n",
    "                                   refresh=R,\n",
    "                                   algorithm='Fixed_param',\n",
    "                                   seed=43541)"
   ]
  },
  {
   "cell_type": "code",
   "execution_count": 8,
   "metadata": {},
   "outputs": [],
   "source": [
    "params_sim=sim_model_ppc.extract()\n",
    "lambda_sim=params_sim['lambda']\n",
    "deaths_sim=params_sim['deaths']"
   ]
  },
  {
   "cell_type": "code",
   "execution_count": 9,
   "metadata": {},
   "outputs": [
    {
     "data": {
      "image/png": "[encoded data removed]",
      "text/plain": [
       "<Figure size 1400x800 with 2 Axes>"
      ]
     },
     "metadata": {
      "needs_background": "light"
     },
     "output_type": "display_data"
    }
   ],
   "source": [
    "fig = plt.figure(figsize=(7, 4))\n",
    "\n",
    "gs = fig.add_gridspec(2,1)\n",
    "ax1 = fig.add_subplot(gs[1])\n",
    "ax1.hist(deaths_sim,bins=100,color=dark,edgecolor=dark_highlight,density=True)\n",
    "ax1.vlines([airline_data['Passenger deaths'].min(),airline_data['Passenger deaths'].max()],\n",
    "           ymin=0,ymax=2e-3,linestyle='--',color='black',zorder=1)\n",
    "# ax1.set_yticks([])\n",
    "ax1.set_title('Simulated deaths')\n",
    "\n",
    "ax2 = fig.add_subplot(gs[0])\n",
    "ax2.hist(lambda_sim,bins=100,color=dark,edgecolor=dark_highlight,density=True)\n",
    "x=np.linspace(0,1500,500)\n",
    "y=stats.norm.pdf(x,loc=692,scale=200)\n",
    "ax2.plot(x,y,'black')\n",
    "ax2.set_title('$\\lambda$')\n",
    "ax1.set_yticks([])\n",
    "ax2.set_yticks([])\n",
    "\n",
    "fig.tight_layout()\n",
    "plt.show()"
   ]
  },
  {
   "cell_type": "markdown",
   "metadata": {},
   "source": [
    "Proposed prior seems to correct. Simulated number of deaths is mostly in range of minimum and maximum value from data."
   ]
  },
  {
   "cell_type": "code",
   "execution_count": 10,
   "metadata": {},
   "outputs": [
    {
     "name": "stdout",
     "output_type": "stream",
     "text": [
      "Using cached StanModel\n"
     ]
    }
   ],
   "source": [
    "model_fit=stan_utility.compile_model('stan_model/passenger_fit.stan')"
   ]
  },
  {
   "cell_type": "code",
   "execution_count": 11,
   "metadata": {},
   "outputs": [],
   "source": [
    "fit=model_fit.sampling(data=dict(N=len(airline_data['Passenger deaths']), passenger_deaths=airline_data['Passenger deaths']), seed=28052020)"
   ]
  },
  {
   "cell_type": "code",
   "execution_count": 12,
   "metadata": {},
   "outputs": [
    {
     "data": {
      "text/html": [
       "<div>\n",
       "<style scoped>\n",
       "    .dataframe tbody tr th:only-of-type {\n",
       "        vertical-align: middle;\n",
       "    }\n",
       "\n",
       "    .dataframe tbody tr th {\n",
       "        vertical-align: top;\n",
       "    }\n",
       "\n",
       "    .dataframe thead th {\n",
       "        text-align: right;\n",
       "    }\n",
       "</style>\n",
       "<table border=\"1\" class=\"dataframe\">\n",
       "  <thead>\n",
       "    <tr style=\"text-align: right;\">\n",
       "      <th></th>\n",
       "      <th>mean</th>\n",
       "      <th>sd</th>\n",
       "      <th>hpd_3%</th>\n",
       "      <th>hpd_97%</th>\n",
       "    </tr>\n",
       "  </thead>\n",
       "  <tbody>\n",
       "    <tr>\n",
       "      <th>lambda</th>\n",
       "      <td>692.61</td>\n",
       "      <td>8.37</td>\n",
       "      <td>678.24</td>\n",
       "      <td>709.34</td>\n",
       "    </tr>\n",
       "  </tbody>\n",
       "</table>\n",
       "</div>"
      ],
      "text/plain": [
       "          mean    sd  hpd_3%  hpd_97%\n",
       "lambda  692.61  8.37  678.24   709.34"
      ]
     },
     "execution_count": 12,
     "metadata": {},
     "output_type": "execute_result"
    }
   ],
   "source": [
    "az.summary(fit,var_names=['lambda'], round_to=2, kind='stats')"
   ]
  },
  {
   "cell_type": "code",
   "execution_count": 13,
   "metadata": {},
   "outputs": [],
   "source": [
    "params_fit=fit.extract()\n",
    "lambda_fit=params_fit['lambda']\n",
    "deaths_pred=params_fit['passenger_death']"
   ]
  },
  {
   "cell_type": "code",
   "execution_count": 14,
   "metadata": {},
   "outputs": [
    {
     "data": {
      "image/png": "[encoded data removed]",
      "text/plain": [
       "<Figure size 1400x800 with 2 Axes>"
      ]
     },
     "metadata": {
      "needs_background": "light"
     },
     "output_type": "display_data"
    }
   ],
   "source": [
    "fig, axes = plt.subplots(1, 2, figsize=(7, 4),sharex=True)\n",
    "ax1=axes[0]\n",
    "ax1.hist(airline_data['Passenger deaths'],color=dark,edgecolor=dark_highlight,density=True)\n",
    "ax1.set_title('Observed passenger deaths')\n",
    "ax1.set_yticks(());\n",
    "\n",
    "ax2=axes[1]\n",
    "ax2.hist(deaths_pred,bins=6,color=dark,edgecolor=dark_highlight,density=True)\n",
    "ax2.set_title('Predicted passenger deaths')\n",
    "ax2.set_yticks(());\n",
    "fig.tight_layout()\n",
    "\n",
    "plt.show()"
   ]
  },
  {
   "cell_type": "markdown",
   "metadata": {},
   "source": [
    "Simulated model does not cover significantly. Model presents situation when passenger deaths are focused in range from 600 to 800, whereas real data set is not focused at this value. We can assume that probability of the biggest death rate match."
   ]
  },
  {
   "cell_type": "markdown",
   "metadata": {},
   "source": [
    "## Part 2 - The intensity is constant, but rate is a product of intensity and miles flown"
   ]
  },
  {
   "cell_type": "code",
   "execution_count": null,
   "metadata": {},
   "outputs": [],
   "source": []
  },
  {
   "cell_type": "code",
   "execution_count": null,
   "metadata": {},
   "outputs": [],
   "source": []
  },
  {
   "cell_type": "code",
   "execution_count": null,
   "metadata": {},
   "outputs": [],
   "source": []
  },
  {
   "cell_type": "code",
   "execution_count": null,
   "metadata": {},
   "outputs": [],
   "source": []
  },
  {
   "cell_type": "code",
   "execution_count": null,
   "metadata": {},
   "outputs": [],
   "source": []
  },
  {
   "cell_type": "code",
   "execution_count": null,
   "metadata": {},
   "outputs": [],
   "source": []
  }
 ],
 "metadata": {
  "kernelspec": {
   "display_name": "Python 3",
   "language": "python",
   "name": "python3"
  },
  "language_info": {
   "codemirror_mode": {
    "name": "ipython",
    "version": 3
   },
   "file_extension": ".py",
   "mimetype": "text/x-python",
   "name": "python",
   "nbconvert_exporter": "python",
   "pygments_lexer": "ipython3",
   "version": "3.6.10"
  }
 },
 "nbformat": 4,
 "nbformat_minor": 4
}
